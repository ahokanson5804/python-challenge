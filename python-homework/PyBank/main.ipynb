{
 "cells": [
  {
   "cell_type": "code",
   "execution_count": 5,
   "id": "c04d9573-b1b6-44bc-9353-52d7c34859e8",
   "metadata": {},
   "outputs": [],
   "source": [
    "#Imports\n",
    "import csv\n",
    "from pathlib import Path"
   ]
  },
  {
   "cell_type": "code",
   "execution_count": 6,
   "id": "f556b2be-b01d-4fbe-83ab-e4554ad8f76b",
   "metadata": {},
   "outputs": [],
   "source": [
    "#Set path of csv file to read/write from\n",
    "csvpath = Path('../Resources/budget_data.csv')"
   ]
  },
  {
   "cell_type": "code",
   "execution_count": 17,
   "id": "b88497b9-0fd3-4f19-9e19-ac59dcc4533f",
   "metadata": {},
   "outputs": [],
   "source": [
    "#Read the cvs file in a dictionary format\n",
    "with open(Path, newline='') as csvfile:\n",
    "    csvreader = csv.DictReader(csvfile, delimiter=\",\")\n",
    "    data = list(csvreader)"
   ]
  },
  {
   "cell_type": "code",
   "execution_count": null,
   "id": "d9a46a22-9890-4595-af9e-f79ad7966975",
   "metadata": {
    "tags": []
   },
   "outputs": [],
   "source": [
    "#The total number of months included in the dataset\n",
    "total_months = len(data)"
   ]
  },
  {
   "cell_type": "code",
   "execution_count": null,
   "id": "d9a46a22-9890-4595-af9e-f79ad7966975",
   "metadata": {
    "tags": []
   },
   "outputs": [],
   "source": [
    "#The net total Profit/Losses over the dataset period\n",
    "total_profit = 0\n",
    "\n",
    "for row in data:\n",
    "    total_profit += int(row[\"Profit/Losses\"])"
   ]
  },
  {
   "cell_type": "code",
   "execution_count": null,
   "id": "00d59c24-b0eb-4c83-8536-e17803dd10f1",
   "metadata": {},
   "outputs": [],
   "source": [
    "# The greatest increase in profits (date and amount) over the entire period\n",
    "greatest_increase = 0\n",
    "\n",
    "for i in range(1, len(data)):\n",
    "    if int(data[i][\"Profit/Losses\"]) - int(data[i-1][\"Profit/Losses\"]) > greatest_increase:\n",
    "        greatest_increase = int(data[i][\"Profit/Losses\"]) - int(data[i-1][\"Profit/Losses\"])\n",
    "        greatest_increase_date = data[i][\"Date\"]"
   ]
  },
  {
   "cell_type": "code",
   "execution_count": null,
   "id": "b8db9239-5ac4-4d4c-8cd3-878ebbc4794e",
   "metadata": {},
   "outputs": [],
   "source": [
    "#The average of the changes in Profit/Losses over the entire period\n",
    "change = 0\n",
    "\n",
    "for i in range(1, len(data)):\n",
    "    change += int(data[i][\"Profit/Losses\"]) - int(data[i-1][\"Profit/Losses\"])\n",
    "average_change = change / (len(data) - 1)\n",
    "\n",
    "#round to 2 decimal places\n",
    "average_change = round(average_change, 2)"
   ]
  },
  {
   "cell_type": "code",
   "execution_count": null,
   "id": "940c1cfe-c453-45e5-8eee-f855c53ddf43",
   "metadata": {},
   "outputs": [],
   "source": [
    "#The greatest increase in profits (date and amount) over the entire period\n",
    "greatest_increase = 0\n",
    "\n",
    "for i in range(1, len(data)):\n",
    "    if int(data[i][\"Profit/Losses\"]) - int(data[i-1][\"Profit/Losses\"]) > greatest_increase:\n",
    "        greatest_increase = int(data[i][\"Profit/Losses\"]) - int(data[i-1][\"Profit/Losses\"])\n",
    "        greatest_increase_date = data[i][\"Date\"]"
   ]
  },
  {
   "cell_type": "code",
   "execution_count": null,
   "id": "a35c9e9e-ed24-46dc-ad18-0f8223ceb3a3",
   "metadata": {},
   "outputs": [],
   "source": [
    "# The greatest increase in profits (date and amount) over the entire period\n",
    "greatest_decrease = 0\n",
    "\n",
    "for i in range(1, len(data)):\n",
    "    if int(data[i][\"Profit/Losses\"]) - int(data[i-1][\"Profit/Losses\"]) < greatest_decrease:\n",
    "        greatest_decrease = int(data[i][\"Profit/Losses\"]) - int(data[i-1][\"Profit/Losses\"])\n",
    "        greatest_decrease_date = data[i][\"Date\"]"
   ]
  },
  {
   "cell_type": "code",
   "execution_count": null,
   "id": "7ae42c90-e40b-4d1e-af14-e2f66ffc835b",
   "metadata": {},
   "outputs": [],
   "source": [
    "#Print the financial analysis\n",
    "\n",
    "print(\"Financial Analysis\")\n",
    "print(\"---------------------------\")\n",
    "print(f\"Total Months: {total_months}\")\n",
    "print(f\"Total: ${total_profit}\")\n",
    "print(f\"Average Change: ${average_change}\")\n",
    "print(f\"Greatest Increase in Profits: {greatest_increase_date} (${greatest_increase})\")\n",
    "print(f\"Greatest Decrease in Profits: {greatest_decrease_date} (${greatest_decrease})\")"
   ]
  }
 ],
 "metadata": {
  "kernelspec": {
   "display_name": "Python 3.10.5 64-bit",
   "language": "python",
   "name": "python3"
  },
  "language_info": {
   "codemirror_mode": {
    "name": "ipython",
    "version": 3
   },
   "file_extension": ".py",
   "mimetype": "text/x-python",
   "name": "python",
   "nbconvert_exporter": "python",
   "pygments_lexer": "ipython3",
   "version": "3.10.5"
  },
  "vscode": {
   "interpreter": {
    "hash": "95f42574581fc202ade982b38cb69046848146ca2f0c5919ad7e3895367ab591"
   }
  }
 },
 "nbformat": 4,
 "nbformat_minor": 5
}
